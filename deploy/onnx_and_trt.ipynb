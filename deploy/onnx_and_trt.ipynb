{
 "cells": [
  {
   "cell_type": "markdown",
   "metadata": {},
   "source": [
    "# Convert the trained pytorch model into ONNX format\n"
   ]
  },
  {
   "cell_type": "code",
   "execution_count": 1,
   "metadata": {},
   "outputs": [
    {
     "name": "stdout",
     "output_type": "stream",
     "text": [
      "/home/neil/catkin_opensource/src/os_racestack/perception/TinyCenterSpeed/deploy\n",
      "Model Created\n",
      "Params Loaded\n",
      "ONNX Exported\n"
     ]
    },
    {
     "name": "stderr",
     "output_type": "stream",
     "text": [
      "/tmp/ipykernel_183971/2360154499.py:22: FutureWarning: You are using `torch.load` with `weights_only=False` (the current default value), which uses the default pickle module implicitly. It is possible to construct malicious pickle data which will execute arbitrary code during unpickling (See https://github.com/pytorch/pytorch/blob/main/SECURITY.md#untrusted-models for more details). In a future release, the default value for `weights_only` will be flipped to `True`. This limits the functions that could be executed during unpickling. Arbitrary objects will no longer be allowed to be loaded via this mode unless they are explicitly allowlisted by the user via `torch.serialization.add_safe_globals`. We recommend you start setting `weights_only=True` for any use case where you don't have full control of the loaded file. Please open an issue on GitHub for any issues related to this experimental feature.\n",
      "  net.load_state_dict(torch.load(input_file, map_location='cpu'))\n"
     ]
    }
   ],
   "source": [
    "import torch\n",
    "import time\n",
    "import matplotlib.pyplot as plt\n",
    "\n",
    "import sys\n",
    "import os\n",
    "\n",
    "# Add the parent directory to the system path\n",
    "sys.path.append(os.path.dirname(os.getcwd()))\n",
    "print(os.getcwd())\n",
    "# Now you can import the module using an absolute import\n",
    "from src.models.CenterSpeed import *\n",
    "\n",
    "model_name = 'onnx/tinycs_test.onnx'\n",
    "input_file = '../src/trained_models/CenterSpeedDense.pt'\n",
    "\n",
    "os.makedirs(os.path.dirname(model_name), exist_ok=True)\n",
    "# Use the wanted model to export here: \n",
    "net = CenterSpeedDenseResidual(image_size=64)\n",
    "\n",
    "print(\"Model Created\")\n",
    "net.load_state_dict(torch.load(input_file, map_location='cpu'))\n",
    "print(\"Params Loaded\")\n",
    "\n",
    "# Create a random input tensor\n",
    "randn_input = torch.randn(1, 6, 64, 64)\n",
    "\n",
    "try:\n",
    "    torch.onnx.export(net, randn_input, model_name)\n",
    "    print(\"ONNX Exported\")\n",
    "except Exception as e:\n",
    "    print(e)\n",
    "    print(\"Failed to export ONNX\")"
   ]
  },
  {
   "cell_type": "markdown",
   "metadata": {},
   "source": [
    "# Convert the ONNX model into a Nvidia TensorRT \n",
    "IMPORTANT: This needs to be run on the Jetson!"
   ]
  },
  {
   "cell_type": "code",
   "execution_count": 15,
   "metadata": {},
   "outputs": [
    {
     "ename": "ModuleNotFoundError",
     "evalue": "No module named 'tensorrt'",
     "output_type": "error",
     "traceback": [
      "\u001b[0;31m---------------------------------------------------------------------------\u001b[0m",
      "\u001b[0;31mModuleNotFoundError\u001b[0m                       Traceback (most recent call last)",
      "Cell \u001b[0;32mIn[15], line 1\u001b[0m\n\u001b[0;32m----> 1\u001b[0m \u001b[38;5;28;01mimport\u001b[39;00m \u001b[38;5;21;01mtensorrt\u001b[39;00m \u001b[38;5;28;01mas\u001b[39;00m \u001b[38;5;21;01mtrt\u001b[39;00m\n\u001b[1;32m      2\u001b[0m \u001b[38;5;28;01mimport\u001b[39;00m \u001b[38;5;21;01monnx\u001b[39;00m\n\u001b[1;32m      3\u001b[0m \u001b[38;5;28;01mimport\u001b[39;00m \u001b[38;5;21;01mtorch\u001b[39;00m\n",
      "\u001b[0;31mModuleNotFoundError\u001b[0m: No module named 'tensorrt'"
     ]
    }
   ],
   "source": [
    "import tensorrt as trt\n",
    "import onnx\n",
    "import torch\n",
    "import numpy as np\n",
    "\n",
    "onnx_filename = \"onnx/tinycs.onnx\"\n",
    "model_onnx = onnx.load(onnx_filename)\n",
    "print(\"Model Loaded\")\n",
    "\n",
    "# Create a TensorRT builder and network\n",
    "builder = trt.Builder(trt.Logger(trt.Logger.WARNING))\n",
    "network = builder.create_network(1 << int(trt.NetworkDefinitionCreationFlag.EXPLICIT_BATCH))\n",
    "\n",
    "# Create an ONNX-TensorRT backend\n",
    "parser = trt.OnnxParser(network, builder.logger)\n",
    "success = parser.parse_from_file(onnx_filename)\n",
    "for idx in range(parser.num_errors):\n",
    "    print(parser.get_error(idx))\n",
    "\n",
    "if not success:\n",
    "    print(\"ERROR\")\n",
    "\n",
    "#Optimization Config, THIS COULD BE OPTIMIZED\n",
    "config = builder.create_builder_config()\n",
    "config.set_memory_pool_limit(trt.MemoryPoolType.WORKSPACE, 1 << 30)\n",
    "serial_engine = builder.build_serialized_network(network, config)\n",
    "with open(\"onnx/tinycs.engine\", \"wb\") as f:\n",
    "    f.write(serial_engine)\n",
    "\n",
    "print(\"Engine Built\")"
   ]
  },
  {
   "cell_type": "code",
   "execution_count": null,
   "metadata": {},
   "outputs": [],
   "source": []
  }
 ],
 "metadata": {
  "kernelspec": {
   "display_name": "Python 3",
   "language": "python",
   "name": "python3"
  },
  "language_info": {
   "codemirror_mode": {
    "name": "ipython",
    "version": 3
   },
   "file_extension": ".py",
   "mimetype": "text/x-python",
   "name": "python",
   "nbconvert_exporter": "python",
   "pygments_lexer": "ipython3",
   "version": "3.8.10"
  }
 },
 "nbformat": 4,
 "nbformat_minor": 2
}
